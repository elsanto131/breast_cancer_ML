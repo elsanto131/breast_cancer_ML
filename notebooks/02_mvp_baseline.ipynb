{
    "cells": [
        {
            "cell_type": "markdown",
            "metadata": {},
            "source": [
                "# 2. MVP : Classification de mammographies MIAS avec CNN (TensorFlow)"
            ]
        },
        {
            "cell_type": "markdown",
            "metadata": {},
            "source": [
                "## Introduction\n",
                "\n",
                "Ce notebook présente la construction d’un **MVP (Minimum Viable Product)** pour la classification des mammographies du dataset MIAS à l’aide d’un réseau de neurones convolutif (CNN) avec TensorFlow/Keras.\n",
                "\n",
                "**Objectifs pédagogiques :**\n",
                "- Préparer les données pour l’apprentissage automatique\n",
                "- Construire et entraîner un modèle CNN simple\n",
                "- Évaluer les performances du modèle sur les classes du dataset\n",
                "- Expliquer chaque étape pour faciliter la compréhension\n",
                "\n",
                "Ce projet illustre les étapes clés d’un workflow deep learning : préparation des données, modélisation, entraînement, évaluation et interprétation"
            ]
        },
        {
            "cell_type": "markdown",
            "metadata": {},
            "source": [
                "## 1. Importation des librairies\n",
                "\n",
                "Avant de commencer, nous importons les librairies nécessaires pour la manipulation des données, la visualisation et la modélisation.  \n",
                "Cela garantit la reproductibilité et la clarté du code tout au long du projet.\n",
                "\n",
                "**Librairies utilisées :**\n",
                "- **pandas** : Manipulation et analyse des métadonnées MIAS\n",
                "- **numpy** : Calculs numériques et manipulation des tableaux\n",
                "- **matplotlib** : Visualisation des données et des résultats\n",
                "- **tensorflow/keras** : Construction et entraînement du modèle CNN"
            ]
        },
        {
            "cell_type": "code",
            "execution_count": 37,
            "metadata": {},
            "outputs": [
                {
                    "name": "stdout",
                    "output_type": "stream",
                    "text": [
                        "Librairies importées avec succès.\n"
                    ]
                }
            ],
            "source": [
                "# ----- Import libraries PEP 8 -----\n",
                "# ----- Standard library -----\n",
                "import pandas as pd # Pour manipuler et analyser les métadonnées\n",
                "import numpy as np # Pour les opérations mathématiques et les tableaux \n",
                "import matplotlib.pyplot as plt # Pour les visualisations \n",
                "import tensorflow as tf # Pour le deep learning et la création de modèles\n",
                "from tensorflow.keras import layers, models # Pour la construction du modèle CNN\n",
                "import pathlib # Pour la gestion des chemins de fichiers\n",
                "from PIL import Image # Pour le traitement des images\n",
                "from sklearn.preprocessing import LabelEncoder # Pour encoder les labels\n",
                "from sklearn.model_selection import train_test_split # Pour diviser les données en ensembles d'entraînement et de test\n",
                "from sklearn.metrics import confusion_matrix, ConfusionMatrixDisplay # Pour la matrice de confusion\n",
                "from sklearn.metrics import classification_report # Pour le rapport de classification\n",
                "from sklearn.utils.class_weight import compute_class_weight # Pour le calcul des poids de classe\n",
                "from tensorflow.keras.preprocessing.image import ImageDataGenerator # Pour l'augmentation des données\n",
                "\n",
                "print(\"Librairies importées avec succès.\")"
            ]
        },
        {
            "cell_type": "markdown",
            "metadata": {},
            "source": [
                "## 2. Chargement des métadonnées MIAS\n",
                "\n",
                "Nous commençons par charger le fichier CSV contenant les informations sur les mammographies.  \n",
                "Cela permet d’associer chaque image à sa classe et de préparer les données pour le modèle."
            ]
        },
        {
            "cell_type": "code",
            "execution_count": 38,
            "metadata": {},
            "outputs": [
                {
                    "data": {
                        "application/vnd.microsoft.datawrangler.viewer.v0+json": {
                            "columns": [
                                {
                                    "name": "index",
                                    "rawType": "int64",
                                    "type": "integer"
                                },
                                {
                                    "name": "REFNUM",
                                    "rawType": "object",
                                    "type": "string"
                                },
                                {
                                    "name": "BG",
                                    "rawType": "object",
                                    "type": "string"
                                },
                                {
                                    "name": "CLASS",
                                    "rawType": "object",
                                    "type": "string"
                                },
                                {
                                    "name": "SEVERITY",
                                    "rawType": "object",
                                    "type": "unknown"
                                },
                                {
                                    "name": "X",
                                    "rawType": "float64",
                                    "type": "float"
                                },
                                {
                                    "name": "Y",
                                    "rawType": "float64",
                                    "type": "float"
                                },
                                {
                                    "name": "RADIUS",
                                    "rawType": "float64",
                                    "type": "float"
                                }
                            ],
                            "ref": "124990d5-3991-44eb-9e8e-cb80155fcba8",
                            "rows": [
                                [
                                    "0",
                                    "mdb001",
                                    "G",
                                    "CIRC",
                                    "B",
                                    "535.0",
                                    "425.0",
                                    "197.0"
                                ],
                                [
                                    "1",
                                    "mdb002",
                                    "G",
                                    "CIRC",
                                    "B",
                                    "522.0",
                                    "280.0",
                                    "69.0"
                                ],
                                [
                                    "2",
                                    "mdb003",
                                    "D",
                                    "NORM",
                                    null,
                                    null,
                                    null,
                                    null
                                ],
                                [
                                    "3",
                                    "mdb004",
                                    "D",
                                    "NORM",
                                    null,
                                    null,
                                    null,
                                    null
                                ],
                                [
                                    "4",
                                    "mdb005",
                                    "F",
                                    "CIRC",
                                    "B",
                                    "477.0",
                                    "133.0",
                                    "30.0"
                                ]
                            ],
                            "shape": {
                                "columns": 7,
                                "rows": 5
                            }
                        },
                        "text/html": [
                            "<div>\n",
                            "<style scoped>\n",
                            "    .dataframe tbody tr th:only-of-type {\n",
                            "        vertical-align: middle;\n",
                            "    }\n",
                            "\n",
                            "    .dataframe tbody tr th {\n",
                            "        vertical-align: top;\n",
                            "    }\n",
                            "\n",
                            "    .dataframe thead th {\n",
                            "        text-align: right;\n",
                            "    }\n",
                            "</style>\n",
                            "<table border=\"1\" class=\"dataframe\">\n",
                            "  <thead>\n",
                            "    <tr style=\"text-align: right;\">\n",
                            "      <th></th>\n",
                            "      <th>REFNUM</th>\n",
                            "      <th>BG</th>\n",
                            "      <th>CLASS</th>\n",
                            "      <th>SEVERITY</th>\n",
                            "      <th>X</th>\n",
                            "      <th>Y</th>\n",
                            "      <th>RADIUS</th>\n",
                            "    </tr>\n",
                            "  </thead>\n",
                            "  <tbody>\n",
                            "    <tr>\n",
                            "      <th>0</th>\n",
                            "      <td>mdb001</td>\n",
                            "      <td>G</td>\n",
                            "      <td>CIRC</td>\n",
                            "      <td>B</td>\n",
                            "      <td>535.0</td>\n",
                            "      <td>425.0</td>\n",
                            "      <td>197.0</td>\n",
                            "    </tr>\n",
                            "    <tr>\n",
                            "      <th>1</th>\n",
                            "      <td>mdb002</td>\n",
                            "      <td>G</td>\n",
                            "      <td>CIRC</td>\n",
                            "      <td>B</td>\n",
                            "      <td>522.0</td>\n",
                            "      <td>280.0</td>\n",
                            "      <td>69.0</td>\n",
                            "    </tr>\n",
                            "    <tr>\n",
                            "      <th>2</th>\n",
                            "      <td>mdb003</td>\n",
                            "      <td>D</td>\n",
                            "      <td>NORM</td>\n",
                            "      <td>NaN</td>\n",
                            "      <td>NaN</td>\n",
                            "      <td>NaN</td>\n",
                            "      <td>NaN</td>\n",
                            "    </tr>\n",
                            "    <tr>\n",
                            "      <th>3</th>\n",
                            "      <td>mdb004</td>\n",
                            "      <td>D</td>\n",
                            "      <td>NORM</td>\n",
                            "      <td>NaN</td>\n",
                            "      <td>NaN</td>\n",
                            "      <td>NaN</td>\n",
                            "      <td>NaN</td>\n",
                            "    </tr>\n",
                            "    <tr>\n",
                            "      <th>4</th>\n",
                            "      <td>mdb005</td>\n",
                            "      <td>F</td>\n",
                            "      <td>CIRC</td>\n",
                            "      <td>B</td>\n",
                            "      <td>477.0</td>\n",
                            "      <td>133.0</td>\n",
                            "      <td>30.0</td>\n",
                            "    </tr>\n",
                            "  </tbody>\n",
                            "</table>\n",
                            "</div>"
                        ],
                        "text/plain": [
                            "   REFNUM BG CLASS SEVERITY      X      Y  RADIUS\n",
                            "0  mdb001  G  CIRC        B  535.0  425.0   197.0\n",
                            "1  mdb002  G  CIRC        B  522.0  280.0    69.0\n",
                            "2  mdb003  D  NORM      NaN    NaN    NaN     NaN\n",
                            "3  mdb004  D  NORM      NaN    NaN    NaN     NaN\n",
                            "4  mdb005  F  CIRC        B  477.0  133.0    30.0"
                        ]
                    },
                    "metadata": {},
                    "output_type": "display_data"
                }
            ],
            "source": [
                "# Chargement du fichier CSV contenant les métadonnées MIAS\n",
                "chemin_csv = \"../data/raw/MIAS/mias_info.csv\" # Chemin vers le fichier CSV des métadonnées\n",
                "df = pd.read_csv(chemin_csv) # Chargement du fichier CSV dans un DataFrame\n",
                "\n",
                "display(df.head()) # Affichage des premières lignes du DataFrame"
            ]
        },
        {
            "cell_type": "markdown",
            "metadata": {},
            "source": [
                "## 3. Préparation des images et des labels\n",
                "\n",
                "Nous allons charger les images, les redimensionner pour le CNN, les normaliser et associer chaque image à son label de classe.  \n",
                "Cette étape est essentielle pour que les données soient compatibles avec le modèle de deep learning."
            ]
        },
        {
            "cell_type": "code",
            "execution_count": 39,
            "metadata": {},
            "outputs": [
                {
                    "name": "stdout",
                    "output_type": "stream",
                    "text": [
                        "Nombre d'images chargées : 330\n",
                        "Shape des images (nb_images, hauteur, largeur) : (330, 128, 128)\n"
                    ]
                }
            ],
            "source": [
                "chemin_images = pathlib.Path(\"../data/raw/MIAS/MIAS\") # Chemin vers le dossier contenant les images\n",
                "taille_img = (128, 128) # Taille à laquelle redimensionner les images = largeur 128 px et hauteur 128 px\n",
                "\n",
                "X = [] # Liste vide pour stocker les images transformées (X = nom de la variable (convention : X majuscule pour les données d'entrée)\n",
                "y = [] # Liste vide pour stocker les labels (classes) des images (y = nom de la variable (convention : y minuscule pour les labels/cibles)\n",
                "\n",
                "for index, ligne in df.iterrows(): # Boucle qui parcourt chaque ligne du dataframe (index de la ligne et contenu de la ligne)\n",
                "    nom_fichier = ligne['FILE_NAME'] if 'FILE_NAME' in df.columns else ligne['REFNUM'] + \".png\" # verifie  si la colonne FILE_NAME existe, si oui on l'utilise, sinon on utilise REFNUM\n",
                "    new_chemin_images = chemin_images / nom_fichier # Concatenation du chemin du dossier et du nom du fichier pour obtenir le chemin complet de l'chemin_images\n",
                "    if new_chemin_images.exists(): # Vérifie si le fichier image existe pour ce chemin\n",
                "        images = Image.open(new_chemin_images).convert('L').resize(taille_img) # Ouvre l'image, .convert('L') la transforme en niveaux de gris et .resize(taille_img) la redimensionne\n",
                "        X.append(np.array(images) / 255.0) # Normalise les pixels de l'image entre 0 et 1 et .append() l'ajoute à la liste X\n",
                "        y.append(ligne['CLASS']) # .append() ajoute la classe de l'image à la liste y\n",
                "X = np.array(X) # Convertit les listes X en tableaux numpy pour faciliter le traitement par le modèle.\n",
                "y = np.array(y) # Convertit les listes y en tableaux numpy pour faciliter le traitement par le modèle.\n",
                "\n",
                "# Séparation en train/test\n",
                "X_train, X_test, y_train, y_test = train_test_split(\n",
                "    X, y, test_size=0.2, random_state=42, stratify=y\n",
                ")\n",
                "\n",
                "np.save(\"../data/processed/X_train.npy\", X_train)\n",
                "np.save(\"../data/processed/X_test.npy\", X_test)\n",
                "np.save(\"../data/processed/y_train.npy\", y_train)\n",
                "np.save(\"../data/processed/y_test.npy\", y_test)\n",
                "\n",
                "print(f\"Nombre d'images chargées : {len(X)}\") # Affiche le nombre total d'images chargées\n",
                "print(f\"Shape des images (nb_images, hauteur, largeur) : {X.shape}\") # Affiche la forme (dimensions) du tableau d'images"
            ]
        },
        {
            "cell_type": "markdown",
            "metadata": {},
            "source": [
                "## 4. Encodage des labels\n",
                "\n",
                "Les labels de classe doivent être transformés en valeurs numériques pour être utilisés par le modèle.  \n",
                "Nous utilisons ici un encodage simple avec `LabelEncoder`."
            ]
        },
        {
            "cell_type": "code",
            "execution_count": 40,
            "metadata": {},
            "outputs": [
                {
                    "name": "stdout",
                    "output_type": "stream",
                    "text": [
                        "Labels encodés : [0 1 2 3 4 5 6]\n"
                    ]
                }
            ],
            "source": [
                "le = LabelEncoder() # Initialisation du label encoder : LabelEncoder() : classe de scikit-learn qui permet de transformer des labels (catégories) en entiers.\n",
                "y_encoded = le.fit_transform(y) # .fit_transform méthode qui apprend les catégories présentes dans y et les transforme en entiers (ex : NORM → 0, CALC → 1, etc.).\n",
                "print(\"Labels encodés :\", np.unique(y_encoded)) # Affiche les labels encodés : np.unique(y_encoded) : fonction numpy qui retourne les valeurs uniques présentes dans y_encoded (toutes les classes encodées)"
            ]
        },
        {
            "cell_type": "markdown",
            "metadata": {},
            "source": [
                "## 5. Séparation des ensembles d'entraînement et de test\n",
                "\n",
                "Pour évaluer le modèle, nous séparons les données en deux ensembles :  \n",
                "- **Entraînement** : pour apprendre le modèle  \n",
                "- **Test** : pour évaluer ses performances sur des données jamais vues\n"
            ]
        },
        {
            "cell_type": "code",
            "execution_count": 41,
            "metadata": {},
            "outputs": [
                {
                    "name": "stdout",
                    "output_type": "stream",
                    "text": [
                        "Train (nb_images, hauteur, largeur) : (264, 128, 128), Test (nb_images, hauteur, largeur) : (66, 128, 128)\n"
                    ]
                }
            ],
            "source": [
                "X_train, X_test, y_train, y_test = train_test_split( # Divise les données en ensembles d'entraînement et de test, train_test_split() : fonction de scikit-learn qui divise les données en deux ensembles (train et test).\n",
                "    X, y_encoded, test_size=0.2, random_state=42, stratify=y_encoded # X : tableau numpy contenant les images prétraitées, y_encoded : tableau numpy contenant les labels encodés, test_size : proportion de l'ensemble de test (20%), random_state : pour la reproductibilité, stratify=y_encoded : assure que la proportion des classes est conservée dans les deux ensembles.\n",
                ")\n",
                "print(f\"Train (nb_images, hauteur, largeur) : {X_train.shape}, Test (nb_images, hauteur, largeur) : {X_test.shape}\") # Affiche la forme (dimensions) des ensembles d’entraînement et de test."
            ]
        },
        {
            "cell_type": "markdown",
            "metadata": {},
            "source": [
                "## 6. Construction du modèle CNN\n",
                "\n",
                "Nous allons construire un modèle de réseau de neurones convolutif (CNN) simple avec Keras.  \n",
                "Ce modèle est adapté à la classification d’images et permet d’extraire automatiquement des caractéristiques visuelles pertinentes.\n"
            ]
        },
        {
            "cell_type": "code",
            "execution_count": 42,
            "metadata": {},
            "outputs": [
                {
                    "data": {
                        "text/html": [
                            "<pre style=\"white-space:pre;overflow-x:auto;line-height:normal;font-family:Menlo,'DejaVu Sans Mono',consolas,'Courier New',monospace\"><span style=\"font-weight: bold\">Model: \"sequential_3\"</span>\n",
                            "</pre>\n"
                        ],
                        "text/plain": [
                            "\u001b[1mModel: \"sequential_3\"\u001b[0m\n"
                        ]
                    },
                    "metadata": {},
                    "output_type": "display_data"
                },
                {
                    "data": {
                        "text/html": [
                            "<pre style=\"white-space:pre;overflow-x:auto;line-height:normal;font-family:Menlo,'DejaVu Sans Mono',consolas,'Courier New',monospace\">┏━━━━━━━━━━━━━━━━━━━━━━━━━━━━━━━━━┳━━━━━━━━━━━━━━━━━━━━━━━━┳━━━━━━━━━━━━━━━┓\n",
                            "┃<span style=\"font-weight: bold\"> Layer (type)                    </span>┃<span style=\"font-weight: bold\"> Output Shape           </span>┃<span style=\"font-weight: bold\">       Param # </span>┃\n",
                            "┡━━━━━━━━━━━━━━━━━━━━━━━━━━━━━━━━━╇━━━━━━━━━━━━━━━━━━━━━━━━╇━━━━━━━━━━━━━━━┩\n",
                            "│ conv2d_6 (<span style=\"color: #0087ff; text-decoration-color: #0087ff\">Conv2D</span>)               │ (<span style=\"color: #00d7ff; text-decoration-color: #00d7ff\">None</span>, <span style=\"color: #00af00; text-decoration-color: #00af00\">126</span>, <span style=\"color: #00af00; text-decoration-color: #00af00\">126</span>, <span style=\"color: #00af00; text-decoration-color: #00af00\">32</span>)   │           <span style=\"color: #00af00; text-decoration-color: #00af00\">320</span> │\n",
                            "├─────────────────────────────────┼────────────────────────┼───────────────┤\n",
                            "│ max_pooling2d_6 (<span style=\"color: #0087ff; text-decoration-color: #0087ff\">MaxPooling2D</span>)  │ (<span style=\"color: #00d7ff; text-decoration-color: #00d7ff\">None</span>, <span style=\"color: #00af00; text-decoration-color: #00af00\">63</span>, <span style=\"color: #00af00; text-decoration-color: #00af00\">63</span>, <span style=\"color: #00af00; text-decoration-color: #00af00\">32</span>)     │             <span style=\"color: #00af00; text-decoration-color: #00af00\">0</span> │\n",
                            "├─────────────────────────────────┼────────────────────────┼───────────────┤\n",
                            "│ conv2d_7 (<span style=\"color: #0087ff; text-decoration-color: #0087ff\">Conv2D</span>)               │ (<span style=\"color: #00d7ff; text-decoration-color: #00d7ff\">None</span>, <span style=\"color: #00af00; text-decoration-color: #00af00\">61</span>, <span style=\"color: #00af00; text-decoration-color: #00af00\">61</span>, <span style=\"color: #00af00; text-decoration-color: #00af00\">64</span>)     │        <span style=\"color: #00af00; text-decoration-color: #00af00\">18,496</span> │\n",
                            "├─────────────────────────────────┼────────────────────────┼───────────────┤\n",
                            "│ max_pooling2d_7 (<span style=\"color: #0087ff; text-decoration-color: #0087ff\">MaxPooling2D</span>)  │ (<span style=\"color: #00d7ff; text-decoration-color: #00d7ff\">None</span>, <span style=\"color: #00af00; text-decoration-color: #00af00\">30</span>, <span style=\"color: #00af00; text-decoration-color: #00af00\">30</span>, <span style=\"color: #00af00; text-decoration-color: #00af00\">64</span>)     │             <span style=\"color: #00af00; text-decoration-color: #00af00\">0</span> │\n",
                            "├─────────────────────────────────┼────────────────────────┼───────────────┤\n",
                            "│ flatten_3 (<span style=\"color: #0087ff; text-decoration-color: #0087ff\">Flatten</span>)             │ (<span style=\"color: #00d7ff; text-decoration-color: #00d7ff\">None</span>, <span style=\"color: #00af00; text-decoration-color: #00af00\">57600</span>)          │             <span style=\"color: #00af00; text-decoration-color: #00af00\">0</span> │\n",
                            "├─────────────────────────────────┼────────────────────────┼───────────────┤\n",
                            "│ dense_6 (<span style=\"color: #0087ff; text-decoration-color: #0087ff\">Dense</span>)                 │ (<span style=\"color: #00d7ff; text-decoration-color: #00d7ff\">None</span>, <span style=\"color: #00af00; text-decoration-color: #00af00\">64</span>)             │     <span style=\"color: #00af00; text-decoration-color: #00af00\">3,686,464</span> │\n",
                            "├─────────────────────────────────┼────────────────────────┼───────────────┤\n",
                            "│ dense_7 (<span style=\"color: #0087ff; text-decoration-color: #0087ff\">Dense</span>)                 │ (<span style=\"color: #00d7ff; text-decoration-color: #00d7ff\">None</span>, <span style=\"color: #00af00; text-decoration-color: #00af00\">7</span>)              │           <span style=\"color: #00af00; text-decoration-color: #00af00\">455</span> │\n",
                            "└─────────────────────────────────┴────────────────────────┴───────────────┘\n",
                            "</pre>\n"
                        ],
                        "text/plain": [
                            "┏━━━━━━━━━━━━━━━━━━━━━━━━━━━━━━━━━┳━━━━━━━━━━━━━━━━━━━━━━━━┳━━━━━━━━━━━━━━━┓\n",
                            "┃\u001b[1m \u001b[0m\u001b[1mLayer (type)                   \u001b[0m\u001b[1m \u001b[0m┃\u001b[1m \u001b[0m\u001b[1mOutput Shape          \u001b[0m\u001b[1m \u001b[0m┃\u001b[1m \u001b[0m\u001b[1m      Param #\u001b[0m\u001b[1m \u001b[0m┃\n",
                            "┡━━━━━━━━━━━━━━━━━━━━━━━━━━━━━━━━━╇━━━━━━━━━━━━━━━━━━━━━━━━╇━━━━━━━━━━━━━━━┩\n",
                            "│ conv2d_6 (\u001b[38;5;33mConv2D\u001b[0m)               │ (\u001b[38;5;45mNone\u001b[0m, \u001b[38;5;34m126\u001b[0m, \u001b[38;5;34m126\u001b[0m, \u001b[38;5;34m32\u001b[0m)   │           \u001b[38;5;34m320\u001b[0m │\n",
                            "├─────────────────────────────────┼────────────────────────┼───────────────┤\n",
                            "│ max_pooling2d_6 (\u001b[38;5;33mMaxPooling2D\u001b[0m)  │ (\u001b[38;5;45mNone\u001b[0m, \u001b[38;5;34m63\u001b[0m, \u001b[38;5;34m63\u001b[0m, \u001b[38;5;34m32\u001b[0m)     │             \u001b[38;5;34m0\u001b[0m │\n",
                            "├─────────────────────────────────┼────────────────────────┼───────────────┤\n",
                            "│ conv2d_7 (\u001b[38;5;33mConv2D\u001b[0m)               │ (\u001b[38;5;45mNone\u001b[0m, \u001b[38;5;34m61\u001b[0m, \u001b[38;5;34m61\u001b[0m, \u001b[38;5;34m64\u001b[0m)     │        \u001b[38;5;34m18,496\u001b[0m │\n",
                            "├─────────────────────────────────┼────────────────────────┼───────────────┤\n",
                            "│ max_pooling2d_7 (\u001b[38;5;33mMaxPooling2D\u001b[0m)  │ (\u001b[38;5;45mNone\u001b[0m, \u001b[38;5;34m30\u001b[0m, \u001b[38;5;34m30\u001b[0m, \u001b[38;5;34m64\u001b[0m)     │             \u001b[38;5;34m0\u001b[0m │\n",
                            "├─────────────────────────────────┼────────────────────────┼───────────────┤\n",
                            "│ flatten_3 (\u001b[38;5;33mFlatten\u001b[0m)             │ (\u001b[38;5;45mNone\u001b[0m, \u001b[38;5;34m57600\u001b[0m)          │             \u001b[38;5;34m0\u001b[0m │\n",
                            "├─────────────────────────────────┼────────────────────────┼───────────────┤\n",
                            "│ dense_6 (\u001b[38;5;33mDense\u001b[0m)                 │ (\u001b[38;5;45mNone\u001b[0m, \u001b[38;5;34m64\u001b[0m)             │     \u001b[38;5;34m3,686,464\u001b[0m │\n",
                            "├─────────────────────────────────┼────────────────────────┼───────────────┤\n",
                            "│ dense_7 (\u001b[38;5;33mDense\u001b[0m)                 │ (\u001b[38;5;45mNone\u001b[0m, \u001b[38;5;34m7\u001b[0m)              │           \u001b[38;5;34m455\u001b[0m │\n",
                            "└─────────────────────────────────┴────────────────────────┴───────────────┘\n"
                        ]
                    },
                    "metadata": {},
                    "output_type": "display_data"
                },
                {
                    "data": {
                        "text/html": [
                            "<pre style=\"white-space:pre;overflow-x:auto;line-height:normal;font-family:Menlo,'DejaVu Sans Mono',consolas,'Courier New',monospace\"><span style=\"font-weight: bold\"> Total params: </span><span style=\"color: #00af00; text-decoration-color: #00af00\">3,705,735</span> (14.14 MB)\n",
                            "</pre>\n"
                        ],
                        "text/plain": [
                            "\u001b[1m Total params: \u001b[0m\u001b[38;5;34m3,705,735\u001b[0m (14.14 MB)\n"
                        ]
                    },
                    "metadata": {},
                    "output_type": "display_data"
                },
                {
                    "data": {
                        "text/html": [
                            "<pre style=\"white-space:pre;overflow-x:auto;line-height:normal;font-family:Menlo,'DejaVu Sans Mono',consolas,'Courier New',monospace\"><span style=\"font-weight: bold\"> Trainable params: </span><span style=\"color: #00af00; text-decoration-color: #00af00\">3,705,735</span> (14.14 MB)\n",
                            "</pre>\n"
                        ],
                        "text/plain": [
                            "\u001b[1m Trainable params: \u001b[0m\u001b[38;5;34m3,705,735\u001b[0m (14.14 MB)\n"
                        ]
                    },
                    "metadata": {},
                    "output_type": "display_data"
                },
                {
                    "data": {
                        "text/html": [
                            "<pre style=\"white-space:pre;overflow-x:auto;line-height:normal;font-family:Menlo,'DejaVu Sans Mono',consolas,'Courier New',monospace\"><span style=\"font-weight: bold\"> Non-trainable params: </span><span style=\"color: #00af00; text-decoration-color: #00af00\">0</span> (0.00 B)\n",
                            "</pre>\n"
                        ],
                        "text/plain": [
                            "\u001b[1m Non-trainable params: \u001b[0m\u001b[38;5;34m0\u001b[0m (0.00 B)\n"
                        ]
                    },
                    "metadata": {},
                    "output_type": "display_data"
                }
            ],
            "source": [
                "# Définition du modèle CNN (Réseau de neurones convolutifs)\n",
                "model = models.Sequential([\n",
                "\n",
                "    # --- Couche d'entrée ---\n",
                "    layers.Input(shape=(128, 128, 1)), # Attend des images de taille 128x128 en niveaux de gris\n",
                "\n",
                "    # --- Couche intermédiaire ---\n",
                "    layers.Conv2D(32, (3, 3), activation='relu'), # Première couche de convolution, 32 filtres de taille 3x3, activation ReLU\n",
                "    layers.MaxPooling2D((2, 2)), # couche de sous-échantillonnage, réduit la taille de moitié\n",
                "    layers.Conv2D(64, (3, 3), activation='relu'), # Deuxième couche de convolution, 64 filtres de taille 3x3, activation ReLU\n",
                "    layers.MaxPooling2D((2, 2)), # couche de sous-échantillonnage, réduit la taille de moitié\n",
                "    layers.Flatten(), # Transforme les matrices en un vecteur (pour la couche dense)\n",
                "    layers.Dense(64, activation='relu'), # couche entièrement connectée avec 64 neurones, activation ReLU\n",
                "\n",
                "    # --- Couche de sortie ---\n",
                "    layers.Dense(len(np.unique(y_encoded)), activation='softmax') # nombre de neurones égal au nombre de classes, activation softmax (classification multi-classe)\n",
                "])\n",
                "\n",
                "model.summary()"
            ]
        },
        {
            "cell_type": "markdown",
            "metadata": {},
            "source": [
                "## 7. Compilation et entraînement du modèle\n",
                "\n",
                "Nous compilons le modèle CNN avec une fonction de perte adaptée à la classification multi-classes (`sparse_categorical_crossentropy`), l’optimiseur Adam et la métrique d’accuracy.  \n",
                "Ensuite, nous entraînons le modèle sur l’ensemble d’entraînement et suivons l’évolution de la performance.\n"
            ]
        },
        {
            "cell_type": "code",
            "execution_count": 43,
            "metadata": {},
            "outputs": [
                {
                    "name": "stdout",
                    "output_type": "stream",
                    "text": [
                        "Epoch 1/10\n",
                        "\u001b[1m7/7\u001b[0m \u001b[32m━━━━━━━━━━━━━━━━━━━━\u001b[0m\u001b[37m\u001b[0m \u001b[1m4s\u001b[0m 312ms/step - accuracy: 0.5640 - loss: 1.5751 - val_accuracy: 0.6792 - val_loss: 1.2334\n",
                        "Epoch 2/10\n",
                        "\u001b[1m7/7\u001b[0m \u001b[32m━━━━━━━━━━━━━━━━━━━━\u001b[0m\u001b[37m\u001b[0m \u001b[1m2s\u001b[0m 275ms/step - accuracy: 0.6161 - loss: 1.3545 - val_accuracy: 0.6981 - val_loss: 1.2833\n",
                        "Epoch 3/10\n",
                        "\u001b[1m7/7\u001b[0m \u001b[32m━━━━━━━━━━━━━━━━━━━━\u001b[0m\u001b[37m\u001b[0m \u001b[1m2s\u001b[0m 263ms/step - accuracy: 0.6161 - loss: 1.2776 - val_accuracy: 0.6792 - val_loss: 1.1515\n",
                        "Epoch 4/10\n",
                        "\u001b[1m7/7\u001b[0m \u001b[32m━━━━━━━━━━━━━━━━━━━━\u001b[0m\u001b[37m\u001b[0m \u001b[1m2s\u001b[0m 241ms/step - accuracy: 0.6209 - loss: 1.2022 - val_accuracy: 0.6792 - val_loss: 1.1394\n",
                        "Epoch 5/10\n",
                        "\u001b[1m7/7\u001b[0m \u001b[32m━━━━━━━━━━━━━━━━━━━━\u001b[0m\u001b[37m\u001b[0m \u001b[1m2s\u001b[0m 273ms/step - accuracy: 0.6209 - loss: 1.1571 - val_accuracy: 0.6792 - val_loss: 1.2939\n",
                        "Epoch 6/10\n",
                        "\u001b[1m7/7\u001b[0m \u001b[32m━━━━━━━━━━━━━━━━━━━━\u001b[0m\u001b[37m\u001b[0m \u001b[1m2s\u001b[0m 254ms/step - accuracy: 0.6398 - loss: 1.1199 - val_accuracy: 0.6981 - val_loss: 1.1732\n",
                        "Epoch 7/10\n",
                        "\u001b[1m7/7\u001b[0m \u001b[32m━━━━━━━━━━━━━━━━━━━━\u001b[0m\u001b[37m\u001b[0m \u001b[1m2s\u001b[0m 242ms/step - accuracy: 0.6540 - loss: 1.0090 - val_accuracy: 0.6792 - val_loss: 1.1538\n",
                        "Epoch 8/10\n",
                        "\u001b[1m7/7\u001b[0m \u001b[32m━━━━━━━━━━━━━━━━━━━━\u001b[0m\u001b[37m\u001b[0m \u001b[1m2s\u001b[0m 256ms/step - accuracy: 0.6493 - loss: 0.9166 - val_accuracy: 0.6792 - val_loss: 1.2159\n",
                        "Epoch 9/10\n",
                        "\u001b[1m7/7\u001b[0m \u001b[32m━━━━━━━━━━━━━━━━━━━━\u001b[0m\u001b[37m\u001b[0m \u001b[1m2s\u001b[0m 291ms/step - accuracy: 0.6919 - loss: 0.8151 - val_accuracy: 0.6038 - val_loss: 1.2076\n",
                        "Epoch 10/10\n",
                        "\u001b[1m7/7\u001b[0m \u001b[32m━━━━━━━━━━━━━━━━━━━━\u001b[0m\u001b[37m\u001b[0m \u001b[1m2s\u001b[0m 293ms/step - accuracy: 0.7393 - loss: 0.6940 - val_accuracy: 0.5849 - val_loss: 1.3598\n"
                    ]
                }
            ],
            "source": [
                "# Compilation du modèle\n",
                "model.compile( # .compile() méthode qui configure le modèle pour l’entraînement.\n",
                "    optimizer='adam', # Optimiseur Adam, efficace pour la plupart des tâches de deep learning.\n",
                "    loss='sparse_categorical_crossentropy', # Fonction de perte adaptée à la classification multi-classes avec lavels entiers\n",
                "    metrics=['accuracy'] # Demande à Keras de calculer l'accuracy pendant l'entraînement et l'évaluation\n",
                ")\n",
                "\n",
                "# Entraînement du modèle\n",
                "history = model.fit( # lance l’entraînement du modèle et stocke l’historique des métriques.\n",
                "    X_train[..., np.newaxis], # ajoute une dimension pour le canal (niveaux de gris).\n",
                "    y_train, # labels d’entraînement.\n",
                "    epochs=10, # nombre de passages sur l’ensemble d’entraînement.\n",
                "    batch_size=32, # nombre d’images traitées avant la mise à jour des poids.\n",
                "    validation_split=0.2 # 20 % des données d’entraînement sont utilisées pour la validation.\n",
                ")"
            ]
        },
        {
            "cell_type": "markdown",
            "metadata": {},
            "source": [
                "## 8. Évaluation du modèle et visualisation des résultats\n",
                "\n",
                "Après l’entraînement, il est important d’évaluer les performances du modèle sur l’ensemble de test.  \n",
                "Nous allons afficher l’accuracy, la matrice de confusion et la courbe d’apprentissage pour interpréter les résultats.\n"
            ]
        },
        {
            "cell_type": "code",
            "execution_count": 44,
            "metadata": {},
            "outputs": [
                {
                    "name": "stdout",
                    "output_type": "stream",
                    "text": [
                        "\u001b[1m3/3\u001b[0m \u001b[32m━━━━━━━━━━━━━━━━━━━━\u001b[0m\u001b[37m\u001b[0m \u001b[1m0s\u001b[0m 55ms/step - accuracy: 0.5758 - loss: 1.7835\n",
                        "Accuracy sur le test set : 0.58\n"
                    ]
                },
                {
                    "data": {
                        "image/png": "[encoded data removed]",
                        "text/plain": [
                            "<Figure size 640x480 with 1 Axes>"
                        ]
                    },
                    "metadata": {},
                    "output_type": "display_data"
                }
            ],
            "source": [
                "# Évaluation sur l'ensemble de test\n",
                "test_loss, test_acc = model.evaluate(X_test[..., np.newaxis], y_test) #test_loss, test_acc : variables qui vont contenir la perte et l’accuracy calculées sur l’ensemble de test. model.evaluate(...) : méthode qui évalue le modèle sur les données de test. X_test[..., np.newaxis] : ajoute une dimension pour le canal (niveaux de gris) aux images de test. y_test : labels de test.\n",
                "print(f\"Accuracy sur le test set : {test_acc:.2f}\") # Affiche l’accuracy obtenue sur l’ensemble de test, arrondie à deux décimales.\n",
                "\n",
                "# Affichage de la courbe d'apprentissage\n",
                "plt.plot(history.history['accuracy'], label='Train') # plt.plot():trace la courbe d’accuracy pour l’entraînement et la validation. history.history['accuracy'] : liste des accuracies à chaque epoch pour l’entraînement.\n",
                "plt.plot(history.history['val_accuracy'], label='Validation') # plt.plot():trace la courbe d’accuracy pour l’entraînement et la validation. history.history['val_accuracy'] : liste des accuracies à chaque epoch pour la validation.\n",
                "plt.title('Courbe d\\'accuracy') # plt.title(): définit le titre du graphique.\n",
                "plt.xlabel('Epoch') # plt.xlabel(): définit le label de l'axe des x.\n",
                "plt.ylabel('Accuracy') # plt.ylabel(): définit le label de l'axe des y.\n",
                "plt.legend() # plt.legend(): affiche la légende du graphique.\n",
                "plt.show() # plt.show(): affiche le graphique.\n"
            ]
        },
        {
            "cell_type": "code",
            "execution_count": 45,
            "metadata": {},
            "outputs": [
                {
                    "name": "stdout",
                    "output_type": "stream",
                    "text": [
                        "\u001b[1m2/3\u001b[0m \u001b[32m━━━━━━━━━━━━━\u001b[0m\u001b[37m━━━━━━━\u001b[0m \u001b[1m0s\u001b[0m 54ms/step WARNING:tensorflow:5 out of the last 13 calls to <function TensorFlowTrainer.make_predict_function.<locals>.one_step_on_data_distributed at 0x188662560> triggered tf.function retracing. Tracing is expensive and the excessive number of tracings could be due to (1) creating @tf.function repeatedly in a loop, (2) passing tensors with different shapes, (3) passing Python objects instead of tensors. For (1), please define your @tf.function outside of the loop. For (2), @tf.function has reduce_retracing=True option that can avoid unnecessary retracing. For (3), please refer to https://www.tensorflow.org/guide/function#controlling_retracing and https://www.tensorflow.org/api_docs/python/tf/function for  more details.\n",
                        "\u001b[1m3/3\u001b[0m \u001b[32m━━━━━━━━━━━━━━━━━━━━\u001b[0m\u001b[37m\u001b[0m \u001b[1m0s\u001b[0m 77ms/step\n"
                    ]
                },
                {
                    "data": {
                        "image/png": "[encoded data removed]",
                        "text/plain": [
                            "<Figure size 640x480 with 2 Axes>"
                        ]
                    },
                    "metadata": {},
                    "output_type": "display_data"
                }
            ],
            "source": [
                "# Matrice de confusion\n",
                "y_pred = np.argmax(model.predict(X_test[..., np.newaxis]), axis=1) # model.predict(...) : prédit les probabilités pour chaque classe sur les images de test. np.argmax(..., axis=1) : récupère la classe prédite (indice du maximum de probabilité) pour chaque image.\n",
                "cm = confusion_matrix(y_test, y_pred) # confusion_matrix(...) : calcule la matrice de confusion entre les labels réels (y_test) et les labels prédits (y_pred).\n",
                "disp = ConfusionMatrixDisplay(confusion_matrix=cm, display_labels=le.classes_) # ConfusionMatrixDisplay(...) : crée un objet pour afficher la matrice de confusion. display_labels=le.classes_ : affiche les noms des classes originales.\n",
                "disp.plot(cmap=plt.cm.Blues) # disp.plot(cmap=plt.cm.Blues) : affiche la matrice avec une palette de couleurs bleues.\n",
                "plt.title(\"Matrice de confusion\") # titre du graphique.\n",
                "plt.show() # affiche le graphique."
            ]
        },
        {
            "cell_type": "markdown",
            "metadata": {},
            "source": [
                "## Rapport de classification détaillé\n",
                "\n",
                "Pour aller plus loin dans l’évaluation du modèle, nous allons afficher le rapport de classification.  \n",
                "Ce rapport donne, pour chaque classe, la précision (precision), le rappel (recall) et le score F1 (f1-score).  \n",
                "Cela permet de voir quelles classes sont bien ou mal reconnues par le modèle, au-delà de l’accuracy globale."
            ]
        },
        {
            "cell_type": "code",
            "execution_count": 46,
            "metadata": {},
            "outputs": [
                {
                    "name": "stdout",
                    "output_type": "stream",
                    "text": [
                        "\u001b[1m3/3\u001b[0m \u001b[32m━━━━━━━━━━━━━━━━━━━━\u001b[0m\u001b[37m\u001b[0m \u001b[1m0s\u001b[0m 81ms/step\n",
                        "              precision    recall  f1-score   support\n",
                        "\n",
                        "        ARCH       0.00      0.00      0.00         4\n",
                        "        ASYM       0.00      0.00      0.00         3\n",
                        "        CALC       0.50      0.50      0.50         6\n",
                        "        CIRC       0.00      0.00      0.00         5\n",
                        "        MISC       0.00      0.00      0.00         3\n",
                        "        NORM       0.65      0.85      0.74        41\n",
                        "        SPIC       0.00      0.00      0.00         4\n",
                        "\n",
                        "    accuracy                           0.58        66\n",
                        "   macro avg       0.16      0.19      0.18        66\n",
                        "weighted avg       0.45      0.58      0.50        66\n",
                        "\n"
                    ]
                },
                {
                    "name": "stderr",
                    "output_type": "stream",
                    "text": [
                        "/usr/local/lib/python3.10/site-packages/sklearn/metrics/_classification.py:1565: UndefinedMetricWarning: Precision is ill-defined and being set to 0.0 in labels with no predicted samples. Use `zero_division` parameter to control this behavior.\n",
                        "  _warn_prf(average, modifier, f\"{metric.capitalize()} is\", len(result))\n",
                        "/usr/local/lib/python3.10/site-packages/sklearn/metrics/_classification.py:1565: UndefinedMetricWarning: Precision is ill-defined and being set to 0.0 in labels with no predicted samples. Use `zero_division` parameter to control this behavior.\n",
                        "  _warn_prf(average, modifier, f\"{metric.capitalize()} is\", len(result))\n",
                        "/usr/local/lib/python3.10/site-packages/sklearn/metrics/_classification.py:1565: UndefinedMetricWarning: Precision is ill-defined and being set to 0.0 in labels with no predicted samples. Use `zero_division` parameter to control this behavior.\n",
                        "  _warn_prf(average, modifier, f\"{metric.capitalize()} is\", len(result))\n"
                    ]
                }
            ],
            "source": [
                "# Prediction sur le test set\n",
                "y_pred = np.argmax(model.predict(X_test[..., np.newaxis]), axis=1) # model.predict(...) : prédit les probabilités pour chaque classe sur les images de test. np.argmax(..., axis=1) : récupère la classe prédite (indice du maximum de probabilité) pour chaque image.\n",
                "\n",
                "print(classification_report(y_test, y_pred, target_names=le.classes_)) # classification_report(...) : génère un rapport détaillé des performances du modèle (précision, rappel, F1-score) pour chaque classe. target_names=le.classes_ : affiche les noms des classes originales."
            ]
        },
        {
            "cell_type": "markdown",
            "metadata": {},
            "source": [
                "### Pourquoi ce rapport ?\n",
                "L’accuracy ne suffit pas toujours : si une classe est peu représentée, elle peut être ignorée par le modèle.\n",
                "Le rapport de classification montre pour chaque classe :\n",
                "\n",
                "- Precision : parmi les images prédites comme appartenant à la classe, combien sont correctes.\n",
                "- Recall : parmi les images réellement de la classe, combien sont retrouvées par le modèle.\n",
                "- F1-score : moyenne harmonique entre précision et rappel, utile si les classes sont déséquilibrées.\n",
                "\n",
                "### Comment ça marche ?\n",
                "\n",
                "- On prédit les classes du test set (y_pred).\n",
                "- On compare ces prédictions aux vraies classes (y_test).\n",
                "- classification_report calcule les métriques pour chaque classe et affiche un tableau récapitulatif."
            ]
        },
        {
            "cell_type": "markdown",
            "metadata": {},
            "source": [
                "## Data Augmentation pour améliorer la robustesse du modèle\n",
                "\n",
                "La data augmentation consiste à appliquer des transformations aléatoires aux images d’entraînement (rotation, zoom, flip, etc.).  \n",
                "Cela permet d’augmenter artificiellement la taille du dataset et d’aider le modèle à mieux généraliser, notamment pour les classes minoritaires.\n",
                "\n",
                "**Pourquoi ?**  \n",
                "Quand le dataset est petit ou déséquilibré, le modèle risque de \"sur-apprendre\" les images majoritaires et d’ignorer les classes rares.  \n",
                "La data augmentation crée des variantes d’images pour que le modèle apprenne à reconnaître les classes dans des conditions variées (angles, zoom, etc.).\n",
                "\n",
                "**Comment ?**  \n",
                "On utilise `ImageDataGenerator` de Keras pour générer des images modifiées à chaque epoch d’entraînement."
            ]
        },
        {
            "cell_type": "code",
            "execution_count": null,
            "metadata": {},
            "outputs": [],
            "source": [
                "data_generation = ImageDataGenerator( # Pour l'augmentation des données\n",
                "    rotation_range=20, # Rotation des images de 20 degrés\n",
                "    width_shift_range=0.1, # Décalage horizontal jusqu'à 10%\n",
                "    height_shift_range=0.1, # Décalage vertical jusqu'à 10%\n",
                "    zoom_range=0.1, # Zoom jusqu'à 10%\n",
                "    horizontal_flip=True, # Flip horizontal aléatoire\n",
                "    validation_split=0.2 # Séparation validation (20%)\n",
                ")\n",
                "\n",
                "# Générateurs pour l'entrainement et la validation\n",
                "train_generation = data_generation.flow( # .flow()\n",
                "    X_train[..., np.newaxis], y_train, batch_size=32, subset='training'\n",
                ")\n",
                "validation_generation = data_generation.flow(\n",
                "    X_train[..., np.newaxis], y_train, batch_size=32, subset='validation'\n",
                ")"
            ]
        },
        {
            "cell_type": "markdown",
            "metadata": {},
            "source": [
                "## Gestion du déséquilibre des classes\n",
                "\n",
                "Dans notre dataset, certaines classes sont très minoritaires.  \n",
                "Pour aider le modèle à mieux apprendre ces classes, on peut utiliser des **poids de classe** lors de l’entraînement.  \n",
                "Cela donne plus d’importance aux erreurs sur les classes rares et aide à équilibrer les prédictions.\n",
                "\n",
                "**Comment ?**  \n",
                "\n",
                "On calcule les poids de chaque classe avec scikit-learn, puis on les passe à Keras lors de l’entraînement."
            ]
        },
        {
            "cell_type": "code",
            "execution_count": null,
            "metadata": {},
            "outputs": [
                {
                    "name": "stderr",
                    "output_type": "stream",
                    "text": [
                        "/usr/local/lib/python3.10/site-packages/keras/src/trainers/data_adapters/py_dataset_adapter.py:121: UserWarning: Your `PyDataset` class should call `super().__init__(**kwargs)` in its constructor. `**kwargs` can include `workers`, `use_multiprocessing`, `max_queue_size`. Do not pass these arguments to `fit()`, as they will be ignored.\n",
                        "  self._warn_if_super_not_called()\n"
                    ]
                },
                {
                    "name": "stdout",
                    "output_type": "stream",
                    "text": [
                        "Epoch 1/10\n",
                        "\u001b[1m7/7\u001b[0m \u001b[32m━━━━━━━━━━━━━━━━━━━━\u001b[0m\u001b[37m\u001b[0m \u001b[1m3s\u001b[0m 315ms/step - accuracy: 0.2028 - loss: 2.0568 - val_accuracy: 0.0962 - val_loss: 2.1196\n",
                        "Epoch 2/10\n",
                        "\u001b[1m7/7\u001b[0m \u001b[32m━━━━━━━━━━━━━━━━━━━━\u001b[0m\u001b[37m\u001b[0m \u001b[1m2s\u001b[0m 250ms/step - accuracy: 0.0896 - loss: 1.7931 - val_accuracy: 0.0385 - val_loss: 2.0814\n",
                        "Epoch 3/10\n",
                        "\u001b[1m7/7\u001b[0m \u001b[32m━━━━━━━━━━━━━━━━━━━━\u001b[0m\u001b[37m\u001b[0m \u001b[1m2s\u001b[0m 269ms/step - accuracy: 0.1132 - loss: 1.8063 - val_accuracy: 0.0962 - val_loss: 1.9601\n",
                        "Epoch 4/10\n",
                        "\u001b[1m7/7\u001b[0m \u001b[32m━━━━━━━━━━━━━━━━━━━━\u001b[0m\u001b[37m\u001b[0m \u001b[1m2s\u001b[0m 298ms/step - accuracy: 0.1840 - loss: 1.7265 - val_accuracy: 0.1731 - val_loss: 1.9576\n",
                        "Epoch 5/10\n",
                        "\u001b[1m7/7\u001b[0m \u001b[32m━━━━━━━━━━━━━━━━━━━━\u001b[0m\u001b[37m\u001b[0m \u001b[1m2s\u001b[0m 256ms/step - accuracy: 0.1321 - loss: 1.8005 - val_accuracy: 0.1731 - val_loss: 1.9540\n",
                        "Epoch 6/10\n",
                        "\u001b[1m7/7\u001b[0m \u001b[32m━━━━━━━━━━━━━━━━━━━━\u001b[0m\u001b[37m\u001b[0m \u001b[1m2s\u001b[0m 274ms/step - accuracy: 0.1368 - loss: 1.7512 - val_accuracy: 0.0769 - val_loss: 2.0264\n",
                        "Epoch 7/10\n",
                        "\u001b[1m7/7\u001b[0m \u001b[32m━━━━━━━━━━━━━━━━━━━━\u001b[0m\u001b[37m\u001b[0m \u001b[1m2s\u001b[0m 251ms/step - accuracy: 0.1509 - loss: 1.7295 - val_accuracy: 0.0962 - val_loss: 1.9634\n",
                        "Epoch 8/10\n",
                        "\u001b[1m7/7\u001b[0m \u001b[32m━━━━━━━━━━━━━━━━━━━━\u001b[0m\u001b[37m\u001b[0m \u001b[1m2s\u001b[0m 261ms/step - accuracy: 0.1509 - loss: 1.7089 - val_accuracy: 0.0577 - val_loss: 2.0434\n",
                        "Epoch 9/10\n",
                        "\u001b[1m7/7\u001b[0m \u001b[32m━━━━━━━━━━━━━━━━━━━━\u001b[0m\u001b[37m\u001b[0m \u001b[1m2s\u001b[0m 267ms/step - accuracy: 0.1321 - loss: 1.7492 - val_accuracy: 0.1154 - val_loss: 2.0469\n",
                        "Epoch 10/10\n",
                        "\u001b[1m7/7\u001b[0m \u001b[32m━━━━━━━━━━━━━━━━━━━━\u001b[0m\u001b[37m\u001b[0m \u001b[1m2s\u001b[0m 264ms/step - accuracy: 0.1745 - loss: 1.7699 - val_accuracy: 0.1154 - val_loss: 1.9632\n"
                    ]
                }
            ],
            "source": [
                "# Calcul des poids de classe\n",
                "class_weights = compute_class_weight( # compute_class_weight() calcule les poids de classe\n",
                "    class_weight='balanced', # 'balanced' ajuste les poids en fonction de la fréquence des classes\n",
                "    classes=np.unique(y_train), # classes=np.unique(y_train) : liste des classes présentes dans y_train\n",
                "    y=y_train # y=y_train : les étiquettes des données d'entraînement\n",
                ")\n",
                "\n",
                "class_weights_dict = dict(enumerate(class_weights)) # Convertit le tableau des poids en dictionnaire {classe: poids}\n",
                "\n",
                "# Exemple d'utilisation des poids de classe dans l'entraînement\n",
                "history = model.fit( # model.fit() entraine le modèle\n",
                "    train_generation, # Générateur de données d'entraînement\n",
                "    validation_data=validation_generation, # Générateur de données de validation\n",
                "    epochs=10, # Nombre d'époques\n",
                "    class_weight=class_weights_dict # Poids de classe\n",
                ")"
            ]
        },
        {
            "cell_type": "markdown",
            "metadata": {},
            "source": [
                "## Conclusion\n",
                "\n",
                "Ce notebook a permis de construire un MVP pour la classification des mammographies MIAS avec un CNN simple.  \n",
                "Les principales étapes réalisées sont :\n",
                "- Préparation et encodage des données\n",
                "- Construction et entraînement du modèle\n",
                "- Évaluation des performances (accuracy, matrice de confusion)\n",
                "\n",
                "**Résultats :**\n",
                "- Accuracy sur le test set : 0.62\n",
                "- La matrice de confusion permet d’identifier les classes bien ou mal prédites.\n",
                "\n",
                "**Pistes d’amélioration :**\n",
                "- Tester des architectures plus complexes\n",
                "- Utiliser la data augmentation pour enrichir le dataset\n",
                "- Gérer le déséquilibre des classes\n",
                "- Optimiser les hyperparamètres\n",
                "\n",
                "Le modèle peut maintenant servir de base pour des expérimentations plus avancées."
            ]
        }
    ],
    "metadata": {
        "kernelspec": {
            "display_name": "Python 3",
            "language": "python",
            "name": "python3"
        },
        "language_info": {
            "codemirror_mode": {
                "name": "ipython",
                "version": 3
            },
            "file_extension": ".py",
            "mimetype": "text/x-python",
            "name": "python",
            "nbconvert_exporter": "python",
            "pygments_lexer": "ipython3",
            "version": "3.10.17"
        }
    },
    "nbformat": 4,
    "nbformat_minor": 4
}
