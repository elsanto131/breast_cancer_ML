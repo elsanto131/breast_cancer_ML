{
    "cells": [
        {
            "cell_type": "markdown",
            "metadata": {},
            "source": [
                "# 1. Data Exploration"
            ]
        },
        {
            "cell_type": "markdown",
            "metadata": {},
            "source": [
                "## Introduction\n",
                "\n",
                "Ce notebook est dédié à l’exploration et à la préparation du dataset MIAS.  \n",
                "L’objectif est de comprendre la structure des données, d’analyser la distribution des classes, de vérifier la qualité des informations (valeurs manquantes, doublons) et de visualiser quelques exemples d’images annotées.\n",
                "\n",
                "Nous allons :\n",
                "- Importer les librairies nécessaires\n",
                "- Charger et explorer les données\n",
                "- Analyser la distribution des classes et expliquer chaque type d’anomalie\n",
                "- Vérifier la qualité des données (valeurs manquantes, doublons)\n",
                "- Visualiser des exemples d’images\n",
                "\n",
                "Chaque étape est expliquée et commentée pour faciliter la compréhension et préparer au mieux la phase de modélisation."
            ]
        },
        {
            "cell_type": "markdown",
            "metadata": {},
            "source": [
                "## 1. Importation des librairies  \n",
                "\n",
                "Avant de commencer l’analyse, nous importons les librairies nécessaires pour la manipulation des données, la visualisation et la modélisation. Cela garantit la reproductibilité et la clarté du code.\n",
                " \n",
                "**Librairies utilisées :**\n",
                "- **pandas** : Manipulation et analyse des métadonnées MIAS\n",
                "- **matplotlib** : Visualisation des données et des résultats\n",
                "- **pathlib** : Gestion des chemins de fichiers\n",
                "- **numpy** : Calculs numériques et manipulation des tableaux\n",
                "- **PIL** : Traitement des images (redimensionnement, conversion)\n",
                "- **scikit-learn** : Division des données (train/validation/test)\n",
                "- **TensorFlow/Keras** : Construction et entraînement du modèle CNN"
            ]
        },
        {
            "cell_type": "code",
            "execution_count": 21,
            "metadata": {},
            "outputs": [
                {
                    "name": "stdout",
                    "output_type": "stream",
                    "text": [
                        "Librairies importées avec succès.\n"
                    ]
                }
            ],
            "source": [
                "# ----- Import libraries PEP 8 -----\n",
                "# ----- Standard library -----\n",
                "import pandas as pd # Pour manipuler et analyser les métadonnées\n",
                "import matplotlib.pyplot as plt # Pour les visualisations \n",
                "import pathlib # Pour la gestion des chemins de fichiers\n",
                "import numpy as np # Pour les opérations mathématiques et les tableaux\n",
                "from PIL import Image # Pour le traitement d'images\n",
                "\n",
                "\n",
                "print(\"Librairies importées avec succès.\")"
            ]
        },
        {
            "cell_type": "markdown",
            "metadata": {},
            "source": [
                "## 2. Importation et exploration du dataset\n",
                "\n",
                "Nous chargeons le fichier d'annotations MIAS qui contient les métadonnées de chaque mammographie. Cette étape initiale permet de vérifier que le dataset est accessible et de comprendre sa structure avant l'analyse approfondie."
            ]
        },
        {
            "cell_type": "code",
            "execution_count": 22,
            "metadata": {},
            "outputs": [
                {
                    "name": "stdout",
                    "output_type": "stream",
                    "text": [
                        "Nombre d'images : 330\n",
                        "Nombre de colonne : 7\n",
                        "Titres des c olonnes du CSV : ['REFNUM', 'BG', 'CLASS', 'SEVERITY', 'X', 'Y', 'RADIUS']\n"
                    ]
                },
                {
                    "data": {
                        "application/vnd.microsoft.datawrangler.viewer.v0+json": {
                            "columns": [
                                {
                                    "name": "index",
                                    "rawType": "int64",
                                    "type": "integer"
                                },
                                {
                                    "name": "REFNUM",
                                    "rawType": "object",
                                    "type": "string"
                                },
                                {
                                    "name": "BG",
                                    "rawType": "object",
                                    "type": "string"
                                },
                                {
                                    "name": "CLASS",
                                    "rawType": "object",
                                    "type": "string"
                                },
                                {
                                    "name": "SEVERITY",
                                    "rawType": "object",
                                    "type": "unknown"
                                },
                                {
                                    "name": "X",
                                    "rawType": "float64",
                                    "type": "float"
                                },
                                {
                                    "name": "Y",
                                    "rawType": "float64",
                                    "type": "float"
                                },
                                {
                                    "name": "RADIUS",
                                    "rawType": "float64",
                                    "type": "float"
                                }
                            ],
                            "ref": "39c5da54-546a-4ab6-ba64-5ef1acd1f39e",
                            "rows": [
                                [
                                    "0",
                                    "mdb001",
                                    "G",
                                    "CIRC",
                                    "B",
                                    "535.0",
                                    "425.0",
                                    "197.0"
                                ],
                                [
                                    "1",
                                    "mdb002",
                                    "G",
                                    "CIRC",
                                    "B",
                                    "522.0",
                                    "280.0",
                                    "69.0"
                                ],
                                [
                                    "2",
                                    "mdb003",
                                    "D",
                                    "NORM",
                                    null,
                                    null,
                                    null,
                                    null
                                ],
                                [
                                    "3",
                                    "mdb004",
                                    "D",
                                    "NORM",
                                    null,
                                    null,
                                    null,
                                    null
                                ],
                                [
                                    "4",
                                    "mdb005",
                                    "F",
                                    "CIRC",
                                    "B",
                                    "477.0",
                                    "133.0",
                                    "30.0"
                                ]
                            ],
                            "shape": {
                                "columns": 7,
                                "rows": 5
                            }
                        },
                        "text/html": [
                            "<div>\n",
                            "<style scoped>\n",
                            "    .dataframe tbody tr th:only-of-type {\n",
                            "        vertical-align: middle;\n",
                            "    }\n",
                            "\n",
                            "    .dataframe tbody tr th {\n",
                            "        vertical-align: top;\n",
                            "    }\n",
                            "\n",
                            "    .dataframe thead th {\n",
                            "        text-align: right;\n",
                            "    }\n",
                            "</style>\n",
                            "<table border=\"1\" class=\"dataframe\">\n",
                            "  <thead>\n",
                            "    <tr style=\"text-align: right;\">\n",
                            "      <th></th>\n",
                            "      <th>REFNUM</th>\n",
                            "      <th>BG</th>\n",
                            "      <th>CLASS</th>\n",
                            "      <th>SEVERITY</th>\n",
                            "      <th>X</th>\n",
                            "      <th>Y</th>\n",
                            "      <th>RADIUS</th>\n",
                            "    </tr>\n",
                            "  </thead>\n",
                            "  <tbody>\n",
                            "    <tr>\n",
                            "      <th>0</th>\n",
                            "      <td>mdb001</td>\n",
                            "      <td>G</td>\n",
                            "      <td>CIRC</td>\n",
                            "      <td>B</td>\n",
                            "      <td>535.0</td>\n",
                            "      <td>425.0</td>\n",
                            "      <td>197.0</td>\n",
                            "    </tr>\n",
                            "    <tr>\n",
                            "      <th>1</th>\n",
                            "      <td>mdb002</td>\n",
                            "      <td>G</td>\n",
                            "      <td>CIRC</td>\n",
                            "      <td>B</td>\n",
                            "      <td>522.0</td>\n",
                            "      <td>280.0</td>\n",
                            "      <td>69.0</td>\n",
                            "    </tr>\n",
                            "    <tr>\n",
                            "      <th>2</th>\n",
                            "      <td>mdb003</td>\n",
                            "      <td>D</td>\n",
                            "      <td>NORM</td>\n",
                            "      <td>NaN</td>\n",
                            "      <td>NaN</td>\n",
                            "      <td>NaN</td>\n",
                            "      <td>NaN</td>\n",
                            "    </tr>\n",
                            "    <tr>\n",
                            "      <th>3</th>\n",
                            "      <td>mdb004</td>\n",
                            "      <td>D</td>\n",
                            "      <td>NORM</td>\n",
                            "      <td>NaN</td>\n",
                            "      <td>NaN</td>\n",
                            "      <td>NaN</td>\n",
                            "      <td>NaN</td>\n",
                            "    </tr>\n",
                            "    <tr>\n",
                            "      <th>4</th>\n",
                            "      <td>mdb005</td>\n",
                            "      <td>F</td>\n",
                            "      <td>CIRC</td>\n",
                            "      <td>B</td>\n",
                            "      <td>477.0</td>\n",
                            "      <td>133.0</td>\n",
                            "      <td>30.0</td>\n",
                            "    </tr>\n",
                            "  </tbody>\n",
                            "</table>\n",
                            "</div>"
                        ],
                        "text/plain": [
                            "   REFNUM BG CLASS SEVERITY      X      Y  RADIUS\n",
                            "0  mdb001  G  CIRC        B  535.0  425.0   197.0\n",
                            "1  mdb002  G  CIRC        B  522.0  280.0    69.0\n",
                            "2  mdb003  D  NORM      NaN    NaN    NaN     NaN\n",
                            "3  mdb004  D  NORM      NaN    NaN    NaN     NaN\n",
                            "4  mdb005  F  CIRC        B  477.0  133.0    30.0"
                        ]
                    },
                    "metadata": {},
                    "output_type": "display_data"
                }
            ],
            "source": [
                "# Chargement du fichier CSV contenant les métadonnées MIAS\n",
                "chemin_csv = \"../data/raw/MIAS/mias_info.csv\" # Chemin vers le fichier CSV des métadonnées\n",
                "df = pd.read_csv(chemin_csv) # Chargement du fichier CSV dans un DataFrame\n",
                "\n",
                "# Information sur le DataFrame\n",
                "print(f\"Nombre d'images : {len(df)}\") # Affiche le nombre d'images\n",
                "print(f\"Nombre de colonne : {len(df.columns)}\") # Affiche le nombre de colonnes\n",
                "print(f\"Titres des c olonnes du CSV : {df.columns.tolist()}\") # Affiche les titres des colonnes du DataFrame dans une liste\n",
                "display(df.head()) # Affiche les 5 premières lignes du DataFrame pour vérification\n"
            ]
        },
        {
            "cell_type": "markdown",
            "metadata": {},
            "source": [
                "## 3. Analyse de la distribution des classes\n",
                "\n",
                "Nous examinons la répartition des différentes classes (types d’anomalies, sévérité) afin d’identifier d’éventuels déséquilibres ou problèmes de représentativité. Cela aide à anticiper les défis liés à l’apprentissage du modèle."
            ]
        },
        {
            "cell_type": "code",
            "execution_count": 23,
            "metadata": {},
            "outputs": [
                {
                    "name": "stdout",
                    "output_type": "stream",
                    "text": [
                        "\n",
                        "Distribution : CLASS\n",
                        "NORM    207\n",
                        "CALC     30\n",
                        "CIRC     25\n",
                        "ARCH     19\n",
                        "SPIC     19\n",
                        "MISC     15\n",
                        "ASYM     15\n",
                        "Name: count, dtype: int64\n"
                    ]
                }
            ],
            "source": [
                "# Distribution des classes\n",
                "print(f\"\\nDistribution : {df['CLASS'].value_counts()}\") # Affiche la distribution des classes dans la colonne 'CLASS'"
            ]
        },
        {
            "cell_type": "markdown",
            "metadata": {},
            "source": [
                "Explication détaillée de chaque classe du dataset MIAS :\n",
                "\n",
                "- **NORM** : Images normales, sans anomalie détectée. C’est la classe majoritaire.\n",
                "- **CALC** : Calcifications. Petits dépôts de calcium dans le tissu mammaire, parfois signe précoce de cancer.\n",
                "- **CIRC** : Masses circulaires. Nodules ou masses bien délimitées, qui peuvent être bénignes ou malignes.\n",
                "- **ARCH** : Masses archées. Formes arquées ou courbées, souvent associées à des lésions spécifiques.\n",
                "- **SPIC** : Masses spiculées. Présence de “rayons” autour d’une masse, souvent signe de malignité.\n",
                "- **MISC** : Anomalies diverses. Regroupe les lésions qui ne rentrent pas dans les autres catégories.\n",
                "- **ASYM** : Asymétries. Différences de densité ou de structure entre les deux seins, pouvant indiquer une anomalie."
            ]
        },
        {
            "cell_type": "markdown",
            "metadata": {},
            "source": [
                "## 4. Vérification des valeurs manquantes et des doublons\n",
                "\n",
                "Nous vérifions la présence de valeurs manquantes et de doublons dans le dataset. Cette étape est cruciale pour garantir la qualité des données et éviter les biais ou erreurs lors de la modélisation."
            ]
        },
        {
            "cell_type": "code",
            "execution_count": 24,
            "metadata": {},
            "outputs": [
                {
                    "name": "stdout",
                    "output_type": "stream",
                    "text": [
                        "Valeurs manquantes par colonne :\n",
                        "REFNUM        0\n",
                        "BG            0\n",
                        "CLASS         0\n",
                        "SEVERITY    207\n",
                        "X           211\n",
                        "Y           211\n",
                        "RADIUS      211\n",
                        "dtype: int64\n",
                        "\n",
                        "Nombre de doublons : 0\n"
                    ]
                }
            ],
            "source": [
                "print(\"Valeurs manquantes par colonne :\") # Titre\n",
                "print(df.isnull().sum()) # .isnull() affiche les valeurs manquantes, .sum() fait la somme des valeurs manquantes par colonne\n",
                "\n",
                "print(f\"\\nNombre de doublons : {df.duplicated().sum()}\") # .duplicated() identifie les doublons, .sum() fait la somme des doublons"
            ]
        },
        {
            "cell_type": "markdown",
            "metadata": {},
            "source": [
                "## 5. Visualisation d’images annotées\n",
                "\n",
                "Nous affichons quelques exemples d’images du dataset avec leurs annotations pour mieux comprendre la nature des données et valider la correspondance entre les fichiers et les labels."
            ]
        },
        {
            "cell_type": "code",
            "execution_count": 25,
            "metadata": {},
            "outputs": [
                {
                    "name": "stdout",
                    "output_type": "stream",
                    "text": [
                        "Nombre d'images trouvées : 322\n"
                    ]
                },
                {
                    "data": {
                        "image/png": "[encoded data removed]",
                        "text/plain": [
                            "<Figure size 640x480 with 1 Axes>"
                        ]
                    },
                    "metadata": {},
                    "output_type": "display_data"
                }
            ],
            "source": [
                "chemin_dossier_images = pathlib.Path(\"../data/raw/MIAS/MIAS\") # Chemin vers le dossier contenant les images\n",
                "\n",
                "liste_images = list(chemin_dossier_images.glob(\"*.png\")) # .glob() récupère tous les fichiers PNG\n",
                "print(f\"Nombre d'images trouvées : {len(liste_images)}\") # Affiche le nombre d'images trouvées et affiche le nombre\n",
                "\n",
                "# Affiche la première image si elle existe\n",
                "if liste_images:\n",
                "    image = plt.imread(liste_images[0]) # .imread() lit l'image et la charge dans un tableau\n",
                "    plt.imshow(image, cmap='gray') # .imshow() affiche l'image en niveaux de gris\n",
                "    plt.title(f\"Image : {liste_images[0].name}\") # .title() ajoute un titre à l'image\n",
                "    plt.axis('off') # .axis('off') masque les axes\n",
                "    plt.show() # .show() affiche l'image\n",
                "else:\n",
                "    print(\"Aucune image PNG trouvée dans ce dossier.\")"
            ]
        },
        {
            "cell_type": "markdown",
            "metadata": {},
            "source": [
                "## 6. Aperçu statistique des données\n",
                "\n",
                "Avant de passer à la modélisation, il est important d’examiner les statistiques des colonnes numériques du dataset (X, Y, RADIUS).  \n",
                "Cela permet de :\n",
                "- Vérifier la cohérence des coordonnées et des tailles de lésions\n",
                "- Détecter d’éventuelles valeurs aberrantes ou erreurs de saisie\n",
                "- Mieux comprendre la répartition spatiale et dimensionnelle des anomalies\n",
                "\n",
                "Nous allons aussi afficher les valeurs uniques des colonnes catégorielles pour s’assurer qu’il n’y a pas d’erreur de saisie ou de catégorie inattendue."
            ]
        },
        {
            "cell_type": "code",
            "execution_count": 26,
            "metadata": {},
            "outputs": [
                {
                    "name": "stdout",
                    "output_type": "stream",
                    "text": [
                        "Statistiques descriptives des colonnes numériques :\n"
                    ]
                },
                {
                    "data": {
                        "application/vnd.microsoft.datawrangler.viewer.v0+json": {
                            "columns": [
                                {
                                    "name": "index",
                                    "rawType": "object",
                                    "type": "string"
                                },
                                {
                                    "name": "RADIUS",
                                    "rawType": "float64",
                                    "type": "float"
                                }
                            ],
                            "ref": "3c2a704b-2e64-4fd7-bf4f-cd13fdc910c5",
                            "rows": [
                                [
                                    "count",
                                    "119.0"
                                ],
                                [
                                    "mean",
                                    "48.84873949579832"
                                ],
                                [
                                    "std",
                                    "33.55886269447784"
                                ],
                                [
                                    "min",
                                    "3.0"
                                ],
                                [
                                    "25%",
                                    "27.0"
                                ],
                                [
                                    "50%",
                                    "41.0"
                                ],
                                [
                                    "75%",
                                    "61.5"
                                ],
                                [
                                    "max",
                                    "197.0"
                                ]
                            ],
                            "shape": {
                                "columns": 1,
                                "rows": 8
                            }
                        },
                        "text/html": [
                            "<div>\n",
                            "<style scoped>\n",
                            "    .dataframe tbody tr th:only-of-type {\n",
                            "        vertical-align: middle;\n",
                            "    }\n",
                            "\n",
                            "    .dataframe tbody tr th {\n",
                            "        vertical-align: top;\n",
                            "    }\n",
                            "\n",
                            "    .dataframe thead th {\n",
                            "        text-align: right;\n",
                            "    }\n",
                            "</style>\n",
                            "<table border=\"1\" class=\"dataframe\">\n",
                            "  <thead>\n",
                            "    <tr style=\"text-align: right;\">\n",
                            "      <th></th>\n",
                            "      <th>RADIUS</th>\n",
                            "    </tr>\n",
                            "  </thead>\n",
                            "  <tbody>\n",
                            "    <tr>\n",
                            "      <th>count</th>\n",
                            "      <td>119.000000</td>\n",
                            "    </tr>\n",
                            "    <tr>\n",
                            "      <th>mean</th>\n",
                            "      <td>48.848739</td>\n",
                            "    </tr>\n",
                            "    <tr>\n",
                            "      <th>std</th>\n",
                            "      <td>33.558863</td>\n",
                            "    </tr>\n",
                            "    <tr>\n",
                            "      <th>min</th>\n",
                            "      <td>3.000000</td>\n",
                            "    </tr>\n",
                            "    <tr>\n",
                            "      <th>25%</th>\n",
                            "      <td>27.000000</td>\n",
                            "    </tr>\n",
                            "    <tr>\n",
                            "      <th>50%</th>\n",
                            "      <td>41.000000</td>\n",
                            "    </tr>\n",
                            "    <tr>\n",
                            "      <th>75%</th>\n",
                            "      <td>61.500000</td>\n",
                            "    </tr>\n",
                            "    <tr>\n",
                            "      <th>max</th>\n",
                            "      <td>197.000000</td>\n",
                            "    </tr>\n",
                            "  </tbody>\n",
                            "</table>\n",
                            "</div>"
                        ],
                        "text/plain": [
                            "           RADIUS\n",
                            "count  119.000000\n",
                            "mean    48.848739\n",
                            "std     33.558863\n",
                            "min      3.000000\n",
                            "25%     27.000000\n",
                            "50%     41.000000\n",
                            "75%     61.500000\n",
                            "max    197.000000"
                        ]
                    },
                    "metadata": {},
                    "output_type": "display_data"
                },
                {
                    "name": "stdout",
                    "output_type": "stream",
                    "text": [
                        "\n",
                        "Valeurs dans la colonne CLASS : ['CIRC' 'NORM' 'MISC' 'ASYM' 'ARCH' 'SPIC' 'CALC']\n",
                        "\n",
                        "Valeurs dans la colonne SEVERITY : ['B' nan 'M']\n",
                        "\n",
                        "Valeurs dans la colonne BG : ['G' 'D' 'F']\n"
                    ]
                }
            ],
            "source": [
                "# Aperçu statistique des données\n",
                "print(\"Statistiques descriptives des colonnes numériques :\") # Titre\n",
                "display(df[['RADIUS']].describe()) # .describe() donne la moyenne, l'écart-type, les min/max, etc. pour la colonne 'RADIUS'\n",
                "\n",
                "# Aperçu des valeurs uniques pour les colonnes catégorielles\n",
                "for colonne in ['CLASS', 'SEVERITY', 'BG']: # Pour chaque colonne dans ['CLASS', 'SEVERITY', 'BG']\n",
                "    print(f\"\\nValeurs dans la colonne {colonne} : {df[colonne].unique()}\") # .unique() affiche les valeurs uniques dans chaque colonne catégorielle\n"
            ]
        },
        {
            "cell_type": "markdown",
            "metadata": {},
            "source": [
                "## 7. Visualisation des distributions numériques\n",
                "\n",
                "Pour aller plus loin dans l’exploration, il est utile de visualiser les tailles de lésions (RADIUS).  \n",
                "Cela permet de repérer visuellement d’éventuelles valeurs aberrantes ou des tendances dans le dataset."
            ]
        },
        {
            "cell_type": "code",
            "execution_count": 27,
            "metadata": {},
            "outputs": [
                {
                    "data": {
                        "image/png": "[encoded data removed]",
                        "text/plain": [
                            "<Figure size 1800x500 with 1 Axes>"
                        ]
                    },
                    "metadata": {},
                    "output_type": "display_data"
                }
            ],
            "source": [
                "fig, ax = plt.subplots(figsize=(18, 5)) # Création de sous-graphes\n",
                "\n",
                "# Histogramme des rayons\n",
                "ax.hist(df['RADIUS'].dropna(), bins=20, color='salmon', edgecolor='black') # .hist() crée un histogramme et .dropna() ignore les valeurs manquantes\n",
                "\n",
                "# Titres/Labels\n",
                "ax.set_title('Distribution des rayons de lésions') # .set_title() définit le titre de l'axe\n",
                "ax.set_xlabel('Rayon (pixels)') # .set_xlabel() définit le label de l'axe des x\n",
                "ax.set_ylabel('Nombre de lésions')\n",
                "\n",
                "plt.tight_layout() # .tight_layout() ajuste les sous-graphes pour éviter le chevauchement"
            ]
        },
        {
            "cell_type": "markdown",
            "metadata": {},
            "source": [
                "- Histogrammes pour visualiser la répartition des rayons de lésions.\n",
                "- `.dropna()` permet d’ignorer les valeurs manquantes, donc seuls les cas annotés sont affichés.\n",
                "- Cette visualisation aide à repérer des valeurs extrêmes ou des erreurs de saisie (par exemple, un rayon très grand ou très petit).\n",
                "- Cela permet aussi de mieux comprendre la localisation et la taille typique des anomalies dans le dataset."
            ]
        },
        {
            "cell_type": "markdown",
            "metadata": {},
            "source": [
                "## Conclusion\n",
                "\n",
                "L’exploration du dataset MIAS a permis de :\n",
                "- Comprendre la structure et le contenu des données\n",
                "- Identifier la distribution des classes et le déséquilibre\n",
                "- Vérifier la qualité des données (valeurs manquantes, doublons)\n",
                "- Visualiser quelques exemples d’images annotées\n",
                "\n",
                "Le dataset est maintenant prêt pour la phase de préparation et de modélisation, qui sera réalisée dans le notebook suivant."
            ]
        }
    ],
    "metadata": {
        "kernelspec": {
            "display_name": "Python 3",
            "language": "python",
            "name": "python3"
        },
        "language_info": {
            "codemirror_mode": {
                "name": "ipython",
                "version": 3
            },
            "file_extension": ".py",
            "mimetype": "text/x-python",
            "name": "python",
            "nbconvert_exporter": "python",
            "pygments_lexer": "ipython3",
            "version": "3.10.17"
        }
    },
    "nbformat": 4,
    "nbformat_minor": 4
}
