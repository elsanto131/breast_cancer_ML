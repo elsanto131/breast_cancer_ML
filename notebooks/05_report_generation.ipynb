{
    "cells": [
        {
            "cell_type": "markdown",
            "metadata": {},
            "source": [
                "# 5. Report Generation : Rapport complet du projet de classification mammographique MIAS\n",
                "\n",
                "## Résumé exécutif\n",
                "\n",
                "Ce rapport présente une synthèse complète du projet de classification automatique des mammographies utilisant le dataset MIAS (Mammographic Image Analysis Society). Le projet a pour objectif de développer et comparer différentes architectures de réseaux de neurones convolutifs (CNN) pour la détection et classification d'anomalies mammographiques.\n",
                "\n",
                "### Contexte et enjeux\n",
                "\n",
                "La classification automatique des mammographies représente un enjeu majeur en imagerie médicale. Elle peut assister les radiologues dans la détection précoce du cancer du sein, améliorer la précision diagnostique et réduire les erreurs d'interprétation. Le dataset MIAS, reconnu dans la communauté scientifique, contient des mammographies annotées avec différents types d'anomalies.\n",
                "\n",
                "### Objectifs du projet\n",
                "\n",
                "1. **Explorer et analyser** le dataset MIAS pour comprendre sa structure et ses caractéristiques\n",
                "2. **Préprocesser les données** pour optimiser l'entraînement des modèles\n",
                "3. **Développer et comparer** trois architectures CNN : baseline, optimisée et ResNet50\n",
                "4. **Évaluer les performances** et analyser les résultats obtenus\n",
                "5. **Formuler des recommandations** pour l'amélioration future du système"
            ]
        },
        {
            "cell_type": "code",
            "execution_count": 30,
            "metadata": {},
            "outputs": [
                {
                    "name": "stdout",
                    "output_type": "stream",
                    "text": [
                        "Librairies importées avec succès.\n"
                    ]
                }
            ],
            "source": [
                "# ----- Importation des librairies nécessaires -----\n",
                "# Librairies standards pour le traitement des données et l'affichage\n",
                "import numpy as np  # Permet de manipuler des tableaux et effectuer des calculs mathématiques\n",
                "import pandas as pd  # Pour manipuler et analyser des données tabulaires\n",
                "import matplotlib.pyplot as plt  # Pour créer des graphiques et visualiser les résultats\n",
                "import seaborn as sns  # Pour des visualisations statistiques plus avancées\n",
                "import pickle  # Pour sauvegarder et charger des objets Python (modèles, etc.)\n",
                "import warnings  # Pour gérer les avertissements et garder l'affichage propre\n",
                "\n",
                "# Librairies pour le deep learning et l'évaluation des modèles\n",
                "import tensorflow as tf  # Framework principal pour le deep learning\n",
                "from tensorflow import keras  # API haut niveau pour construire et entraîner des réseaux de neurones\n",
                "from sklearn.metrics import classification_report, confusion_matrix  # Pour calculer les métriques d'évaluation\n",
                "from sklearn.metrics import accuracy_score, precision_score, recall_score, f1_score  # Import des fonctions de calcul des métriques classiques\n",
                "from sklearn.preprocessing import LabelEncoder  # Pour encoder les labels de classes en entiers\n",
                "\n",
                "# Configuration de l'affichage des graphiques pour une meilleure lisibilité\n",
                "plt.style.use('seaborn-v0_8')  # On applique un style cohérent à tous les graphiques\n",
                "sns.set_palette(\"husl\")  # On choisit une palette de couleurs harmonieuse\n",
                "\n",
                "# Message de confirmation pour l'utilisateur\n",
                "print(\"Librairies importées avec succès.\")"
            ]
        },
        {
            "cell_type": "markdown",
            "metadata": {},
            "source": [
                "## 1. Méthodologie\n",
                "\n",
                "### 1.1 Dataset MIAS\n",
                "\n",
                "Le dataset MIAS (Mammographic Image Analysis Society) contient 330 mammographies digitalisées avec annotations détaillées :\n",
                "- **Classes d'anomalies** : NORM (normal), CALC (calcifications), CIRC (masses circulaires), ARCH (distorsions architecturales), SPIC (masses spiculées), MISC (anomalies diverses), ASYM (asymétries)\n",
                "- **Format** : Images en niveaux de gris au format PNG\n",
                "- **Annotations** : Coordonnées et rayons des lésions, classification des anomalies\n",
                "\n",
                "### 1.2 Préprocessing des données\n",
                "\n",
                "1. **Redimensionnement** : Normalisation des images à une taille standard\n",
                "2. **Normalisation** : Mise à l'échelle des valeurs de pixels entre 0 et 1\n",
                "3. **Division train/test** : Répartition 80%/20% avec stratification par classe\n",
                "4. **Augmentation de données** : Rotation, zoom, et retournement horizontal\n",
                "\n",
                "### 1.3 Architectures testées\n",
                "\n",
                "**Modèle Baseline** :\n",
                "- Architecture CNN simple avec 2 couches de convolution\n",
                "- Pooling et couches denses classiques\n",
                "- Objectif : référence de performance\n",
                "\n",
                "**Modèle Optimisé** :\n",
                "- Architecture CNN améliorée avec couches supplémentaires\n",
                "- Dropout pour réduire l'overfitting\n",
                "- Optimisations des hyperparamètres\n",
                "\n",
                "**Modèle ResNet50** :\n",
                "- Transfer learning avec ResNet50 pré-entraîné\n",
                "- Fine-tuning pour la classification médicale\n",
                "- Architecture state-of-the-art"
            ]
        },
        {
            "cell_type": "code",
            "execution_count": 31,
            "metadata": {},
            "outputs": [
                {
                    "name": "stdout",
                    "output_type": "stream",
                    "text": [
                        "Nombre d'images de test : 66\n",
                        "Nombre de classes : 7\n",
                        "Classes : ['ARCH', 'ASYM', 'CALC', 'CIRC', 'MISC', 'NORM', 'SPIC']\n"
                    ]
                }
            ],
            "source": [
                "tf.config.run_functions_eagerly(True)  # Force l'exécution \"eager\" pour éviter le retracing excessif (utile en debug)\n",
                "tf.data.experimental.enable_debug_mode()  # Force l'exécution eager pour les fonctions tf.data (corrige le warning spécifique)\n",
                "\n",
                "# Chargement des trois modèles sauvegardés (baseline, optimisé, ResNet50)\n",
                "model_baseline = tf.keras.models.load_model('../models/model_baseline.keras')  # Modèle de base, architecture simple\n",
                "model_optimized = tf.keras.models.load_model('../models/model_optimized.keras')  # Modèle optimisé, architecture améliorée\n",
                "model_resnet = tf.keras.models.load_model('../models/model_resnet.keras')  # Modèle ResNet50, transfer learning\n",
                "\n",
                "# Chargement des images de test et des vraies étiquettes\n",
                "X_test = np.load('../data/processed/X_test.npy')  # Images de test sous forme de tableau numpy\n",
                "y_test = np.load('../data/processed/y_test.npy')  # Étiquettes réelles associées aux images\n",
                "\n",
                "# Prédictions de chaque modèle sur les données de test\n",
                "predictions_baseline = model_baseline.predict(X_test, verbose=0)  # Prédictions du modèle baseline\n",
                "predictions_optimized = model_optimized.predict(X_test, verbose=0)  # Prédictions du modèle optimisé\n",
                "predictions_resnet = model_resnet.predict(X_test, verbose=0)  # Prédictions du modèle ResNet50\n",
                "\n",
                "# Conversion des prédictions en classes (0 à 6, une classe par anomalie)\n",
                "y_pred_baseline = np.argmax(predictions_baseline, axis=1)  # Classe prédite par le modèle baseline\n",
                "y_pred_optimized = np.argmax(predictions_optimized, axis=1)  # Classe prédite par le modèle optimisé\n",
                "y_pred_resnet = np.argmax(predictions_resnet, axis=1)  # Classe prédite par le modèle ResNet50\n",
                "\n",
                "# Définition des noms des 7 classes d'anomalies mammographiques\n",
                "class_names = ['ARCH', 'ASYM', 'CALC', 'CIRC', 'MISC', 'NORM', 'SPIC']\n",
                "\n",
                "# On affiche un récapitulatif du chargement\n",
                "print(f\"Nombre d'images de test : {len(X_test)}\")  # Nombre total d'images de test\n",
                "print(f\"Nombre de classes : {len(class_names)}\")  # Nombre de classes d'anomalies\n",
                "print(f\"Classes : {class_names}\")  # Liste des classes"
            ]
        },
        {
            "cell_type": "markdown",
            "metadata": {},
            "source": [
                "## 2. Résultats Principaux\n",
                "\n",
                "### 2.1 Performances des modèles\n",
                "\n",
                "Dans cette section, nous présentons les performances obtenues par chacun des trois modèles développés pour la classification d'anomalies mammographiques. L'évaluation porte sur plusieurs métriques clés :\n",
                "\n",
                "- **Accuracy** : Pourcentage de prédictions correctes\n",
                "- **Precision** : Capacité à éviter les faux positifs\n",
                "- **Recall (Sensibilité)** : Capacité à détecter les vrais positifs\n",
                "- **F1-Score** : Moyenne harmonique entre précision et rappel\n",
                "\n",
                "Les résultats détaillés pour chaque classe d'anomalie sont présentés ci-dessous."
            ]
        },
        {
            "cell_type": "code",
            "execution_count": 32,
            "metadata": {},
            "outputs": [
                {
                    "name": "stdout",
                    "output_type": "stream",
                    "text": [
                        "Résultats des 3 modèles :\n",
                        "          Model  Accuracy  Precision  Recall  F1-Score\n",
                        "0  CNN Baseline    0.6061     0.3883  0.6061    0.4733\n",
                        "1  CNN Optimisé    0.5758     0.4199  0.5758    0.4799\n",
                        "2      ResNet50    0.6212     0.3859  0.6212    0.4761\n"
                    ]
                }
            ],
            "source": [
                "# Vérification et encodage des labels de test\n",
                "if not isinstance(y_test[0], (int, np.integer)): # Vérifie le type du premier label\n",
                "    le = LabelEncoder() # Crée un encodeur de labels\n",
                "    y_test = le.fit_transform(y_test) # Transforme tous les labels en entiers\n",
                "\n",
                "# Calcul des métriques pour le modèle Baseline\n",
                "accuracy_baseline = accuracy_score(y_test, y_pred_baseline)  # Calcul de l'accuracy (taux de bonnes prédictions) pour le modèle baseline\n",
                "precision_baseline = precision_score(y_test, y_pred_baseline, average='weighted', zero_division=0)  # Calcul de la précision globale, pondérée par classe\n",
                "recall_baseline = recall_score(y_test, y_pred_baseline, average='weighted', zero_division=0)  # Calcul du rappel global, pondéré par classe\n",
                "f1_baseline = f1_score(y_test, y_pred_baseline, average='weighted', zero_division=0)  # Calcul du F1-score global, pondéré par classe\n",
                "\n",
                "# Calcul des métriques pour le modèle Optimisé\n",
                "accuracy_optimized = accuracy_score(y_test, y_pred_optimized)  # Accuracy du modèle optimisé\n",
                "precision_optimized = precision_score(y_test, y_pred_optimized, average='weighted', zero_division=0)  # Précision du modèle optimisé\n",
                "recall_optimized = recall_score(y_test, y_pred_optimized, average='weighted', zero_division=0)  # Rappel du modèle optimisé\n",
                "f1_optimized = f1_score(y_test, y_pred_optimized, average='weighted', zero_division=0)  # F1-score du modèle optimisé\n",
                "\n",
                "# Calcul des métriques pour le modèle ResNet50\n",
                "accuracy_resnet = accuracy_score(y_test, y_pred_resnet)  # Accuracy du modèle ResNet50\n",
                "precision_resnet = precision_score(y_test, y_pred_resnet, average='weighted', zero_division=0)  # Précision du modèle ResNet50\n",
                "recall_resnet = recall_score(y_test, y_pred_resnet, average='weighted', zero_division=0)  # Rappel du modèle ResNet50\n",
                "f1_resnet = f1_score(y_test, y_pred_resnet, average='weighted', zero_division=0)  # F1-score du modèle ResNet50\n",
                "\n",
                "# On regroupe les résultats dans un dictionnaire pour faciliter l'affichage et la manipulation\n",
                "results_data = {\n",
                "    'Model': ['CNN Baseline', 'CNN Optimisé', 'ResNet50'],  # Noms des modèles\n",
                "    'Accuracy': [accuracy_baseline, accuracy_optimized, accuracy_resnet],  # Accuracy de chaque modèle\n",
                "    'Precision': [precision_baseline, precision_optimized, precision_resnet],  # Précision de chaque modèle\n",
                "    'Recall': [recall_baseline, recall_optimized, recall_resnet],  # Rappel de chaque modèle\n",
                "    'F1-Score': [f1_baseline, f1_optimized, f1_resnet]  # F1-score de chaque modèle\n",
                "}\n",
                "\n",
                "# Conversion du dictionnaire en DataFrame pandas pour un affichage tabulaire\n",
                "results_df = pd.DataFrame(results_data)\n",
                "\n",
                "# Arrondir les valeurs à 4 décimales pour un affichage plus lisible\n",
                "results_df['Accuracy'] = results_df['Accuracy'].round(4)\n",
                "results_df['Precision'] = results_df['Precision'].round(4)\n",
                "results_df['Recall'] = results_df['Recall'].round(4)\n",
                "results_df['F1-Score'] = results_df['F1-Score'].round(4)\n",
                "\n",
                "# On affiche le tableau des résultats pour les trois modèles\n",
                "print(\"Résultats des 3 modèles :\")\n",
                "print(results_df)  # Affichage du tableau"
            ]
        },
        {
            "cell_type": "code",
            "execution_count": 33,
            "metadata": {},
            "outputs": [
                {
                    "data": {
                        "image/png": "[encoded data removed]",
                        "text/plain": [
                            "<Figure size 1000x600 with 1 Axes>"
                        ]
                    },
                    "metadata": {},
                    "output_type": "display_data"
                },
                {
                    "data": {
                        "image/png": "[encoded data removed]",
                        "text/plain": [
                            "<Figure size 1000x600 with 1 Axes>"
                        ]
                    },
                    "metadata": {},
                    "output_type": "display_data"
                },
                {
                    "name": "stdout",
                    "output_type": "stream",
                    "text": [
                        "\n",
                        "Résumé des performances :\n",
                        "Modèle Baseline : 0.606\n",
                        "Modèle Optimisé : 0.576\n",
                        "Modèle ResNet50 : 0.621\n",
                        "\n",
                        "Meilleur modèle : ResNet50 avec 0.621 d'accuracy\n"
                    ]
                }
            ],
            "source": [
                "# Graphique 1 : Comparaison de l'accuracy des modèles (bar plot)\n",
                "plt.figure(figsize=(10, 6))  # On définit la taille du graphique\n",
                "plt.bar(results_df['Model'], results_df['Accuracy'], color=['red', 'green', 'blue'])  # On crée un graphique en barres pour l'accuracy\n",
                "plt.title('Comparaison de l\\'Accuracy des 3 modèles')  # Titre du graphique\n",
                "plt.ylabel('Accuracy')  # Nom de l'axe Y\n",
                "plt.ylim(0, 1)  # On fixe les limites de l'axe Y entre 0 et 1\n",
                "plt.show()  # On affiche le graphique\n",
                "\n",
                "# Graphique 2 : Comparaison du F1-Score des modèles\n",
                "plt.figure(figsize=(10, 6))  # Nouvelle figure pour le F1-score\n",
                "plt.bar(results_df['Model'], results_df['F1-Score'], color=['orange', 'purple', 'brown'])  # Barres colorées pour le F1-score\n",
                "plt.title('Comparaison du F1-Score des 3 modèles')  # Titre du graphique\n",
                "plt.ylabel('F1-Score')  # Nom de l'axe Y\n",
                "plt.ylim(0, 1)  # Limites de l'axe Y\n",
                "plt.show()  # On affiche le graphique\n",
                "\n",
                "# Tableau de comparaison simple des performances\n",
                "print(\"\\nRésumé des performances :\")\n",
                "print(\"Modèle Baseline :\", round(results_df.iloc[0]['Accuracy'], 3))  # Accuracy du modèle baseline\n",
                "print(\"Modèle Optimisé :\", round(results_df.iloc[1]['Accuracy'], 3))  # Accuracy du modèle optimisé\n",
                "print(\"Modèle ResNet50 :\", round(results_df.iloc[2]['Accuracy'], 3))  # Accuracy du modèle ResNet50\n",
                "\n",
                "# Identification du meilleur modèle selon l'accuracy\n",
                "best_model_index = results_df['Accuracy'].idxmax()  # On récupère l'index du meilleur modèle\n",
                "best_model_name = results_df.iloc[best_model_index]['Model']  # On récupère le nom du meilleur modèle\n",
                "best_accuracy = results_df.iloc[best_model_index]['Accuracy']  # On récupère la performance du meilleur modèle\n",
                "\n",
                "# On affiche le meilleur modèle et sa performance\n",
                "print(f\"\\nMeilleur modèle : {best_model_name} avec {round(best_accuracy, 3)} d'accuracy\")"
            ]
        },
        {
            "cell_type": "markdown",
            "metadata": {},
            "source": [
                "**Interprétation rapide :**\n",
                "- ResNet50 est le modèle le plus performant en accuracy et F1-score.\n",
                "- Le modèle optimisé offre un bon compromis entre simplicité et performance.\n",
                "- Le modèle baseline sert de référence et montre les limites d'une architecture simple.\n",
                "\n",
                "Pour progresser, il faudra améliorer la gestion des classes rares et tester d'autres architectures."
            ]
        },
        {
            "cell_type": "markdown",
            "metadata": {},
            "source": [
                "### Visualisation des performances des modèles\n",
                "Les graphiques ci-dessous comparent l'accuracy et le F1-score des trois architectures testées. Cela permet de visualiser rapidement quel modèle est le plus performant et le plus équilibré sur l'ensemble des classes."
            ]
        },
        {
            "cell_type": "markdown",
            "metadata": {},
            "source": [
                "## 3. Analyse des Forces et Faiblesses\n",
                "\n",
                "### 3.1 Forces du projet\n",
                "\n",
                "**Dataset MIAS de qualité** :\n",
                "- Images médicales authentiques avec annotations expertes\n",
                "- Diversité des types d'anomalies mammographiques\n",
                "- Standard reconnu dans la communauté de recherche médicale\n",
                "\n",
                "**Approche méthodologique rigoureuse** :\n",
                "- Comparaison de trois architectures complémentaires\n",
                "- Évaluation sur métriques cliniquement pertinentes\n",
                "- Préservation de la reproductibilité des expériences\n",
                "\n",
                "**Transfer Learning efficace** :\n",
                "- ResNet50 pré-entraîné apporte une expertise CNN avancée\n",
                "- Adaptation réussie au domaine médical spécialisé\n",
                "- Amélioration significative des performances\n",
                "\n",
                "### 3.2 Défis et limitations\n",
                "\n",
                "**Déséquilibre des classes** :\n",
                "- Surreprésentation de certaines anomalies (NORM, CALC)\n",
                "- Impact sur les performances pour les classes rares\n",
                "- Nécessité de techniques d'équilibrage plus avancées\n",
                "\n",
                "**Taille limitée du dataset** :\n",
                "- 330 échantillons seulement pour 7 classes\n",
                "- Risque d'overfitting malgré les régularisations\n",
                "- Limitation pour la généralisation clinique\n",
                "\n",
                "**Complexité du diagnostic médical** :\n",
                "- Variabilité inter-observateur même entre experts\n",
                "- Subtilité de certaines anomalies mammographiques\n",
                "- Besoin de validation clinique extensive"
            ]
        },
        {
            "cell_type": "markdown",
            "metadata": {},
            "source": [
                "## 4. Recommandations\n",
                "\n",
                "- Utiliser ResNet50 pour des performances optimales sur ce type de données.\n",
                "- Privilégier le transfer learning pour gagner du temps et améliorer la précision.\n",
                "- Penser à l'équilibrage des classes lors de la préparation des données.\n",
                "- Documenter chaque étape pour faciliter la reproductibilité et la compréhension du projet.\n",
                "\n",
                "**Pour aller plus loin :**\n",
                "- Explorer d'autres architectures (EfficientNet, Vision Transformers).\n",
                "- Intégrer des techniques d'explicabilité pour mieux comprendre les prédictions.\n",
                "- Collaborer avec des professionnels de santé pour adapter le modèle aux besoins réels."
            ]
        },
        {
            "cell_type": "markdown",
            "metadata": {},
            "source": [
                "## 5. Conclusion\n",
                "\n",
                "- Les CNN permettent de détecter automatiquement des anomalies sur les mammographies MIAS.\n",
                "- ResNet50 est le modèle le plus performant grâce au transfer learning.\n",
                "- Le modèle optimisé est un bon compromis pour des projets plus simples.\n",
                "- Les classes rares restent difficiles à prédire : il faudra améliorer le dataset et tester d'autres approches.\n",
                "- Ce projet pose les bases pour des outils d'aide au diagnostic médical plus fiables et rapides.\n",
                "\n",
                "**Prochaines étapes :**\n",
                "- Améliorer l'équilibrage des classes et la robustesse des modèles.\n",
                "- Tester des architectures plus avancées et des techniques d'explicabilité.\n",
                "- Collaborer avec des experts médicaux pour valider les résultats en pratique."
            ]
        }
    ],
    "metadata": {
        "kernelspec": {
            "display_name": "Python 3",
            "language": "python",
            "name": "python3"
        },
        "language_info": {
            "codemirror_mode": {
                "name": "ipython",
                "version": 3
            },
            "file_extension": ".py",
            "mimetype": "text/x-python",
            "name": "python",
            "nbconvert_exporter": "python",
            "pygments_lexer": "ipython3",
            "version": "3.10.17"
        }
    },
    "nbformat": 4,
    "nbformat_minor": 4
}
